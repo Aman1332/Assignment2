{
 "cells": [
  {
   "cell_type": "code",
   "execution_count": 1,
   "id": "2c9d17f0-6d2f-4063-9fcd-22f632c8ae24",
   "metadata": {},
   "outputs": [],
   "source": [
    "#  Q1. Which keyword is used to create a function? Create a function to return a list of odd numbers in the\n",
    "# range of 1 to 25."
   ]
  },
  {
   "cell_type": "code",
   "execution_count": 130,
   "id": "eb758128-2696-4ad7-8f29-1214339d4942",
   "metadata": {},
   "outputs": [],
   "source": [
    "# Ans= def keyword is used to create a function. \n",
    "def odd(n):\n",
    "    for i in range(1,n):\n",
    "        if i%2!=0:\n",
    "            print(i)\n",
    "              \n",
    "# l1.append()        \n"
   ]
  },
  {
   "cell_type": "code",
   "execution_count": 136,
   "id": "5251f803-477a-4b70-846f-5ef176be1d47",
   "metadata": {},
   "outputs": [
    {
     "name": "stdout",
     "output_type": "stream",
     "text": [
      "1\n",
      "3\n",
      "5\n",
      "7\n",
      "9\n",
      "11\n",
      "13\n",
      "15\n",
      "17\n",
      "19\n",
      "21\n",
      "23\n",
      "25\n"
     ]
    }
   ],
   "source": [
    "odd(26)"
   ]
  },
  {
   "cell_type": "code",
   "execution_count": 39,
   "id": "c3429eca-0df1-4299-9c6d-ba9b1fd3708b",
   "metadata": {},
   "outputs": [],
   "source": [
    "# Q2=Why *args and **kwargs is used in some functions? Create a function each for *args and **kwargs\n",
    "# to demonstrate their use."
   ]
  },
  {
   "cell_type": "code",
   "execution_count": 41,
   "id": "58111645-d683-4cef-b103-550a67f00e0c",
   "metadata": {},
   "outputs": [],
   "source": [
    "# Ans= args->\n",
    "# Used to pass a variable number of positional arguments. Positional arguments are arguments that don't contain any keyword related to the data value.\n",
    "# kwargs->\n",
    "# Used to pass a variable length of keyword arguments. Keyword arguments are like a dictionary, which maps the value to its associated key."
   ]
  },
  {
   "cell_type": "code",
   "execution_count": 1,
   "id": "721ef8e8-5db4-4d89-86df-187e1d52e09b",
   "metadata": {},
   "outputs": [],
   "source": [
    "# Q3. What is an iterator in python? Name the method used to initialise the iterator object and the method\n",
    "# used for iteration. Use these methods to print the first five elements of the given list [2, 4, 6, 8, 10, 12, 14,\n",
    "# 16, 18, 20]."
   ]
  },
  {
   "cell_type": "code",
   "execution_count": null,
   "id": "d8abefd2-ef14-4afe-aae1-bdda151e0201",
   "metadata": {},
   "outputs": [],
   "source": [
    "# Ans=\n",
    "# Iterator->Iterators are objects that allow you to traverse through all the elements of a collection and return one element at a time.\n",
    "# iter(): Initializes the iterator object\n",
    "# next(): Iterates over the iterable objects and returns the next value in the iterable object "
   ]
  },
  {
   "cell_type": "code",
   "execution_count": 63,
   "id": "c9e5a36f-11a8-4821-8264-6479f3ab730b",
   "metadata": {},
   "outputs": [],
   "source": [
    "l=[2, 4, 6, 8, 10, 12, 14,16, 18, 20]"
   ]
  },
  {
   "cell_type": "code",
   "execution_count": 83,
   "id": "68f44671-98f0-4db1-88d4-5dc6dd04fd9a",
   "metadata": {},
   "outputs": [],
   "source": [
    "l1=iter(l)"
   ]
  },
  {
   "cell_type": "code",
   "execution_count": 85,
   "id": "593df2c2-1ba8-481f-a45a-223d0d1a0779",
   "metadata": {},
   "outputs": [
    {
     "name": "stdout",
     "output_type": "stream",
     "text": [
      "2\n",
      "4\n",
      "6\n",
      "8\n",
      "10\n"
     ]
    }
   ],
   "source": [
    "for i in range(5):\n",
    "    print(next(l1))"
   ]
  },
  {
   "cell_type": "code",
   "execution_count": 81,
   "id": "a0bfd4c4-291f-4e69-be40-83d6a82a0950",
   "metadata": {},
   "outputs": [],
   "source": [
    "def fun1(*args,a):\n",
    "    return args,a"
   ]
  },
  {
   "cell_type": "code",
   "execution_count": 49,
   "id": "deebaf62-4712-4472-8b40-a44819bd42e4",
   "metadata": {},
   "outputs": [
    {
     "data": {
      "text/plain": [
       "((1, 2), 32)"
      ]
     },
     "execution_count": 49,
     "metadata": {},
     "output_type": "execute_result"
    }
   ],
   "source": [
    "fun1(1,2 ,a=32)"
   ]
  },
  {
   "cell_type": "code",
   "execution_count": 51,
   "id": "df68218b-40d5-46e1-8a3d-722cffa4f53d",
   "metadata": {},
   "outputs": [],
   "source": [
    "def fun2(*kwargs,b):\n",
    "    return kwargs,b"
   ]
  },
  {
   "cell_type": "code",
   "execution_count": 69,
   "id": "44d849c5-0470-4941-ac61-99ca9b8d5f33",
   "metadata": {},
   "outputs": [
    {
     "data": {
      "text/plain": [
       "((34, 43, 12), 123)"
      ]
     },
     "execution_count": 69,
     "metadata": {},
     "output_type": "execute_result"
    }
   ],
   "source": [
    "fun2(34,43,12,b=123)"
   ]
  },
  {
   "cell_type": "code",
   "execution_count": 15,
   "id": "eb717ff9-84a6-4ebd-b77b-793df89a38cc",
   "metadata": {},
   "outputs": [],
   "source": [
    "# Q4. What is a generator function in python? Why yield keyword is used? Give an example of a generator\n",
    "# function."
   ]
  },
  {
   "cell_type": "code",
   "execution_count": null,
   "id": "d4338fef-f3b2-495e-a72a-c7d7d8613643",
   "metadata": {},
   "outputs": [],
   "source": [
    "# Ans=Generator Function->\n",
    "#  A generator function in Python is a function that creates an iterator and returns a generator object that can be used to produce a sequence of values on demand.\n",
    "# use of yield keyword->\n",
    "# The yield keyword is used to control the flow of a generator function in Python"
   ]
  },
  {
   "cell_type": "code",
   "execution_count": 17,
   "id": "0bc2e4e0-b799-4f95-aa15-2ac5d94f4b50",
   "metadata": {},
   "outputs": [],
   "source": [
    "# Eg\n",
    "def test_fib(n):\n",
    "    a,b=0,1\n",
    "    for i in range(n):\n",
    "        yield a\n",
    "        a,b=b,a+b"
   ]
  },
  {
   "cell_type": "code",
   "execution_count": 19,
   "id": "222b9156-17bc-4615-aeec-e64c72cf6ac7",
   "metadata": {},
   "outputs": [
    {
     "data": {
      "text/plain": [
       "<generator object test_fib at 0x0000021B53268D60>"
      ]
     },
     "execution_count": 19,
     "metadata": {},
     "output_type": "execute_result"
    }
   ],
   "source": [
    "test_fib(10)"
   ]
  },
  {
   "cell_type": "code",
   "execution_count": 21,
   "id": "632f69f5-a6e9-4bbf-9af0-ccfe13ff169a",
   "metadata": {},
   "outputs": [],
   "source": [
    "c=test_fib(10)"
   ]
  },
  {
   "cell_type": "code",
   "execution_count": 23,
   "id": "a3f104af-bf58-4952-92e0-af86a0195876",
   "metadata": {},
   "outputs": [
    {
     "name": "stdout",
     "output_type": "stream",
     "text": [
      "0\n",
      "1\n",
      "1\n",
      "2\n",
      "3\n",
      "5\n",
      "8\n",
      "13\n",
      "21\n",
      "34\n"
     ]
    }
   ],
   "source": [
    "for i in c:\n",
    "    print(i)"
   ]
  },
  {
   "cell_type": "code",
   "execution_count": null,
   "id": "c1b89749-d5bf-421c-801d-20ce5b5db6b3",
   "metadata": {},
   "outputs": [],
   "source": [
    "# Q6. Write a python program to print the first 10 Fibonacci numbers using a while loop."
   ]
  },
  {
   "cell_type": "code",
   "execution_count": 148,
   "id": "fc96f85d-6f91-46b2-8d95-eb7c5a2b3b56",
   "metadata": {},
   "outputs": [
    {
     "name": "stdin",
     "output_type": "stream",
     "text": [
      "enter a number 10\n"
     ]
    },
    {
     "name": "stdout",
     "output_type": "stream",
     "text": [
      "1\n",
      "2\n",
      "3\n",
      "5\n",
      "8\n",
      "13\n",
      "21\n",
      "34\n",
      "55\n"
     ]
    }
   ],
   "source": [
    "n=int(input(\"enter a number\"))\n",
    "a=0\n",
    "b=1\n",
    "i=1\n",
    "while i<n:\n",
    "    c=a+b\n",
    "    a=b\n",
    "    b=c\n",
    "    print(c)\n",
    "    i=i+1"
   ]
  },
  {
   "cell_type": "code",
   "execution_count": null,
   "id": "ff4e0eec-ccf2-4559-ab0b-bbcb662bdf97",
   "metadata": {},
   "outputs": [],
   "source": [
    "# Q7. Write a List Comprehension to iterate through the given string: ‘pwskills’."
   ]
  },
  {
   "cell_type": "code",
   "execution_count": 1,
   "id": "5b49bf6a-47bf-4413-8bea-de98035fd9ed",
   "metadata": {},
   "outputs": [],
   "source": [
    "s=\"pwskills\""
   ]
  },
  {
   "cell_type": "code",
   "execution_count": 3,
   "id": "d64100c0-59f1-4130-8215-ff0cdf02165b",
   "metadata": {},
   "outputs": [
    {
     "data": {
      "text/plain": [
       "'pwskills'"
      ]
     },
     "execution_count": 3,
     "metadata": {},
     "output_type": "execute_result"
    }
   ],
   "source": [
    "s"
   ]
  },
  {
   "cell_type": "code",
   "execution_count": 11,
   "id": "13101e9f-8cf8-40f1-ac6d-13335a2ef7ce",
   "metadata": {},
   "outputs": [
    {
     "data": {
      "text/plain": [
       "['p', 'w', 's', 'k', 'i', 'l', 'l', 's']"
      ]
     },
     "execution_count": 11,
     "metadata": {},
     "output_type": "execute_result"
    }
   ],
   "source": [
    "list(i for i in s)"
   ]
  },
  {
   "cell_type": "code",
   "execution_count": null,
   "id": "067dad3e-cdef-4257-82ff-02da8e56fc93",
   "metadata": {},
   "outputs": [],
   "source": [
    "# Q8. Write a python program to check whether a given number is Palindrome or not using a while loop."
   ]
  },
  {
   "cell_type": "code",
   "execution_count": 29,
   "id": "f6d87702-eba6-4cdd-88b6-819478108836",
   "metadata": {},
   "outputs": [
    {
     "name": "stdin",
     "output_type": "stream",
     "text": [
      "enter a number 234\n"
     ]
    },
    {
     "name": "stdout",
     "output_type": "stream",
     "text": [
      "the number is not palindrome\n"
     ]
    }
   ],
   "source": [
    "n=int(input(\"enter a number\"))\n",
    "r=0\n",
    "num=n\n",
    "while num>0:\n",
    "    p=num%10\n",
    "    r=r*10+p\n",
    "    num=num//10\n",
    "    \n",
    "if r==n:\n",
    "    print(\"the number is palindrome\")\n",
    "else:\n",
    "    print(\"the number is not palindrome\")\n",
    "    "
   ]
  },
  {
   "cell_type": "code",
   "execution_count": 158,
   "id": "a1490953-8bf0-4d40-87df-67754de2b3da",
   "metadata": {},
   "outputs": [],
   "source": [
    "# Q9. Write a code to print odd numbers from 1 to 100 using list comprehension."
   ]
  },
  {
   "cell_type": "code",
   "execution_count": 160,
   "id": "b473f5f6-1e9b-4901-a945-ff8e1ceec6ec",
   "metadata": {},
   "outputs": [
    {
     "data": {
      "text/plain": [
       "[1,\n",
       " 2,\n",
       " 3,\n",
       " 4,\n",
       " 5,\n",
       " 6,\n",
       " 7,\n",
       " 8,\n",
       " 9,\n",
       " 10,\n",
       " 11,\n",
       " 12,\n",
       " 13,\n",
       " 14,\n",
       " 15,\n",
       " 16,\n",
       " 17,\n",
       " 18,\n",
       " 19,\n",
       " 20,\n",
       " 21,\n",
       " 22,\n",
       " 23,\n",
       " 24,\n",
       " 25,\n",
       " 26,\n",
       " 27,\n",
       " 28,\n",
       " 29,\n",
       " 30,\n",
       " 31,\n",
       " 32,\n",
       " 33,\n",
       " 34,\n",
       " 35,\n",
       " 36,\n",
       " 37,\n",
       " 38,\n",
       " 39,\n",
       " 40,\n",
       " 41,\n",
       " 42,\n",
       " 43,\n",
       " 44,\n",
       " 45,\n",
       " 46,\n",
       " 47,\n",
       " 48,\n",
       " 49,\n",
       " 50,\n",
       " 51,\n",
       " 52,\n",
       " 53,\n",
       " 54,\n",
       " 55,\n",
       " 56,\n",
       " 57,\n",
       " 58,\n",
       " 59,\n",
       " 60,\n",
       " 61,\n",
       " 62,\n",
       " 63,\n",
       " 64,\n",
       " 65,\n",
       " 66,\n",
       " 67,\n",
       " 68,\n",
       " 69,\n",
       " 70,\n",
       " 71,\n",
       " 72,\n",
       " 73,\n",
       " 74,\n",
       " 75,\n",
       " 76,\n",
       " 77,\n",
       " 78,\n",
       " 79,\n",
       " 80,\n",
       " 81,\n",
       " 82,\n",
       " 83,\n",
       " 84,\n",
       " 85,\n",
       " 86,\n",
       " 87,\n",
       " 88,\n",
       " 89,\n",
       " 90,\n",
       " 91,\n",
       " 92,\n",
       " 93,\n",
       " 94,\n",
       " 95,\n",
       " 96,\n",
       " 97,\n",
       " 98,\n",
       " 99]"
      ]
     },
     "execution_count": 160,
     "metadata": {},
     "output_type": "execute_result"
    }
   ],
   "source": [
    "list(i for i in range(1,100))"
   ]
  },
  {
   "cell_type": "code",
   "execution_count": 162,
   "id": "f85dbcc7-f4b4-4218-8e42-a0e6296a5ce0",
   "metadata": {},
   "outputs": [
    {
     "data": {
      "text/plain": [
       "[1,\n",
       " 3,\n",
       " 5,\n",
       " 7,\n",
       " 9,\n",
       " 11,\n",
       " 13,\n",
       " 15,\n",
       " 17,\n",
       " 19,\n",
       " 21,\n",
       " 23,\n",
       " 25,\n",
       " 27,\n",
       " 29,\n",
       " 31,\n",
       " 33,\n",
       " 35,\n",
       " 37,\n",
       " 39,\n",
       " 41,\n",
       " 43,\n",
       " 45,\n",
       " 47,\n",
       " 49,\n",
       " 51,\n",
       " 53,\n",
       " 55,\n",
       " 57,\n",
       " 59,\n",
       " 61,\n",
       " 63,\n",
       " 65,\n",
       " 67,\n",
       " 69,\n",
       " 71,\n",
       " 73,\n",
       " 75,\n",
       " 77,\n",
       " 79,\n",
       " 81,\n",
       " 83,\n",
       " 85,\n",
       " 87,\n",
       " 89,\n",
       " 91,\n",
       " 93,\n",
       " 95,\n",
       " 97,\n",
       " 99]"
      ]
     },
     "execution_count": 162,
     "metadata": {},
     "output_type": "execute_result"
    }
   ],
   "source": [
    "list(i for i in range(1,100) if i%2!=0)"
   ]
  },
  {
   "cell_type": "code",
   "execution_count": 1,
   "id": "d49c138b-1524-47fb-b2f0-1f1716ee435c",
   "metadata": {},
   "outputs": [],
   "source": [
    "def prime_test(n):\n",
    "    number=2\n",
    "    while number<1000:\n",
    "        if n%number:\n",
    "            yield number\n",
    "            number=number+1\n",
    "        "
   ]
  },
  {
   "cell_type": "code",
   "execution_count": 3,
   "id": "3252ddc3-e20e-47e8-8659-86b3ac16b062",
   "metadata": {},
   "outputs": [],
   "source": [
    "c=prime_test(40)"
   ]
  },
  {
   "cell_type": "code",
   "execution_count": null,
   "id": "1c4d6ff7-fd72-4aef-868e-d67c7a553697",
   "metadata": {},
   "outputs": [],
   "source": [
    "for i in c:\n",
    "    print(i)"
   ]
  },
  {
   "cell_type": "code",
   "execution_count": null,
   "id": "01470aa2-e444-4c79-92d7-824fba20a2d5",
   "metadata": {},
   "outputs": [],
   "source": []
  }
 ],
 "metadata": {
  "kernelspec": {
   "display_name": "Python 3 (ipykernel)",
   "language": "python",
   "name": "python3"
  },
  "language_info": {
   "codemirror_mode": {
    "name": "ipython",
    "version": 3
   },
   "file_extension": ".py",
   "mimetype": "text/x-python",
   "name": "python",
   "nbconvert_exporter": "python",
   "pygments_lexer": "ipython3",
   "version": "3.12.4"
  }
 },
 "nbformat": 4,
 "nbformat_minor": 5
}
